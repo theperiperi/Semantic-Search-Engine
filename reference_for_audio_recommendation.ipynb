{
  "cells": [
    {
      "cell_type": "markdown",
      "metadata": {
        "id": "view-in-github",
        "colab_type": "text"
      },
      "source": [
        "<a href=\"https://colab.research.google.com/github/theperiperi/Semantic-Search-Engine-for-Music/blob/main/reference_for_audio_recommendation.ipynb\" target=\"_parent\"><img src=\"https://colab.research.google.com/assets/colab-badge.svg\" alt=\"Open In Colab\"/></a>"
      ]
    },
    {
      "cell_type": "markdown",
      "id": "d2de8df3",
      "metadata": {
        "id": "d2de8df3"
      },
      "source": [
        "\n",
        "# Building an Audio Recommendation System"
      ]
    },
    {
      "cell_type": "code",
      "execution_count": null,
      "id": "f0e09c9d",
      "metadata": {
        "colab": {
          "base_uri": "https://localhost:8080/"
        },
        "id": "f0e09c9d",
        "outputId": "d0193c73-4adb-41ad-d4fd-39555dc504a7"
      },
      "outputs": [
        {
          "output_type": "stream",
          "name": "stdout",
          "text": [
            "Requirement already satisfied: pandas in /usr/local/lib/python3.10/dist-packages (1.5.3)\n",
            "Requirement already satisfied: python-dateutil>=2.8.1 in /usr/local/lib/python3.10/dist-packages (from pandas) (2.8.2)\n",
            "Requirement already satisfied: pytz>=2020.1 in /usr/local/lib/python3.10/dist-packages (from pandas) (2023.3.post1)\n",
            "Requirement already satisfied: numpy>=1.21.0 in /usr/local/lib/python3.10/dist-packages (from pandas) (1.23.5)\n",
            "Requirement already satisfied: six>=1.5 in /usr/local/lib/python3.10/dist-packages (from python-dateutil>=2.8.1->pandas) (1.16.0)\n",
            "Collecting openai-whisper\n",
            "  Downloading openai-whisper-20231117.tar.gz (798 kB)\n",
            "     ━━━━━━━━━━━━━━━━━━━━━━━━━━━━━━━━━━━━━━━━ 798.6/798.6 kB 6.8 MB/s eta 0:00:00\n",
            "  Installing build dependencies: started\n",
            "  Installing build dependencies: finished with status 'done'\n",
            "  Getting requirements to build wheel: started\n",
            "  Getting requirements to build wheel: finished with status 'done'\n",
            "  Preparing metadata (pyproject.toml): started\n",
            "  Preparing metadata (pyproject.toml): finished with status 'done'\n",
            "Requirement already satisfied: triton<3,>=2.0.0 in /usr/local/lib/python3.10/dist-packages (from openai-whisper) (2.1.0)\n",
            "Requirement already satisfied: numba in /usr/local/lib/python3.10/dist-packages (from openai-whisper) (0.58.1)\n",
            "Requirement already satisfied: numpy in /usr/local/lib/python3.10/dist-packages (from openai-whisper) (1.23.5)\n",
            "Requirement already satisfied: torch in /usr/local/lib/python3.10/dist-packages (from openai-whisper) (2.1.0+cu121)\n",
            "Requirement already satisfied: tqdm in /usr/local/lib/python3.10/dist-packages (from openai-whisper) (4.66.1)\n",
            "Requirement already satisfied: more-itertools in /usr/local/lib/python3.10/dist-packages (from openai-whisper) (10.1.0)\n",
            "Collecting tiktoken (from openai-whisper)\n",
            "  Downloading tiktoken-0.5.2-cp310-cp310-manylinux_2_17_x86_64.manylinux2014_x86_64.whl (2.0 MB)\n",
            "     ━━━━━━━━━━━━━━━━━━━━━━━━━━━━━━━━━━━━━━━━ 2.0/2.0 MB 17.3 MB/s eta 0:00:00\n",
            "Requirement already satisfied: filelock in /usr/local/lib/python3.10/dist-packages (from triton<3,>=2.0.0->openai-whisper) (3.13.1)\n",
            "Requirement already satisfied: llvmlite<0.42,>=0.41.0dev0 in /usr/local/lib/python3.10/dist-packages (from numba->openai-whisper) (0.41.1)\n",
            "Requirement already satisfied: regex>=2022.1.18 in /usr/local/lib/python3.10/dist-packages (from tiktoken->openai-whisper) (2023.6.3)\n",
            "Requirement already satisfied: requests>=2.26.0 in /usr/local/lib/python3.10/dist-packages (from tiktoken->openai-whisper) (2.31.0)\n",
            "Requirement already satisfied: typing-extensions in /usr/local/lib/python3.10/dist-packages (from torch->openai-whisper) (4.5.0)\n",
            "Requirement already satisfied: sympy in /usr/local/lib/python3.10/dist-packages (from torch->openai-whisper) (1.12)\n",
            "Requirement already satisfied: networkx in /usr/local/lib/python3.10/dist-packages (from torch->openai-whisper) (3.2.1)\n",
            "Requirement already satisfied: jinja2 in /usr/local/lib/python3.10/dist-packages (from torch->openai-whisper) (3.1.2)\n",
            "Requirement already satisfied: fsspec in /usr/local/lib/python3.10/dist-packages (from torch->openai-whisper) (2023.6.0)\n",
            "Requirement already satisfied: charset-normalizer<4,>=2 in /usr/local/lib/python3.10/dist-packages (from requests>=2.26.0->tiktoken->openai-whisper) (3.3.2)\n",
            "Requirement already satisfied: idna<4,>=2.5 in /usr/local/lib/python3.10/dist-packages (from requests>=2.26.0->tiktoken->openai-whisper) (3.6)\n",
            "Requirement already satisfied: urllib3<3,>=1.21.1 in /usr/local/lib/python3.10/dist-packages (from requests>=2.26.0->tiktoken->openai-whisper) (2.0.7)\n",
            "Requirement already satisfied: certifi>=2017.4.17 in /usr/local/lib/python3.10/dist-packages (from requests>=2.26.0->tiktoken->openai-whisper) (2023.11.17)\n",
            "Requirement already satisfied: MarkupSafe>=2.0 in /usr/local/lib/python3.10/dist-packages (from jinja2->torch->openai-whisper) (2.1.3)\n",
            "Requirement already satisfied: mpmath>=0.19 in /usr/local/lib/python3.10/dist-packages (from sympy->torch->openai-whisper) (1.3.0)\n",
            "Building wheels for collected packages: openai-whisper\n",
            "  Building wheel for openai-whisper (pyproject.toml): started\n",
            "  Building wheel for openai-whisper (pyproject.toml): finished with status 'done'\n",
            "  Created wheel for openai-whisper: filename=openai_whisper-20231117-py3-none-any.whl size=801356 sha256=6184cb27810d398df2b6f1655a2770519e8590e3ef21290b2b92cf39b56b7873\n",
            "  Stored in directory: /root/.cache/pip/wheels/d0/85/e1/9361b4cbea7dd4b7f6702fa4c3afc94877952eeb2b62f45f56\n",
            "Successfully built openai-whisper\n",
            "Installing collected packages: tiktoken, openai-whisper\n",
            "Successfully installed openai-whisper-20231117 tiktoken-0.5.2\n",
            "Collecting pytube\n",
            "  Downloading pytube-15.0.0-py3-none-any.whl (57 kB)\n",
            "     ━━━━━━━━━━━━━━━━━━━━━━━━━━━━━━━━━━━━━━━━ 57.6/57.6 kB 2.1 MB/s eta 0:00:00\n",
            "Installing collected packages: pytube\n",
            "Successfully installed pytube-15.0.0\n",
            "Requirement already satisfied: numpy in /usr/local/lib/python3.10/dist-packages (1.23.5)\n",
            "Collecting pinecone-client\n",
            "  Downloading pinecone_client-2.2.4-py3-none-any.whl (179 kB)\n",
            "     ━━━━━━━━━━━━━━━━━━━━━━━━━━━━━━━━━━━━━━━━ 179.4/179.4 kB 4.6 MB/s eta 0:00:00\n",
            "Requirement already satisfied: requests>=2.19.0 in /usr/local/lib/python3.10/dist-packages (from pinecone-client) (2.31.0)\n",
            "Requirement already satisfied: pyyaml>=5.4 in /usr/local/lib/python3.10/dist-packages (from pinecone-client) (6.0.1)\n",
            "Collecting loguru>=0.5.0 (from pinecone-client)\n",
            "  Downloading loguru-0.7.2-py3-none-any.whl (62 kB)\n",
            "     ━━━━━━━━━━━━━━━━━━━━━━━━━━━━━━━━━━━━━━━━ 62.5/62.5 kB 6.9 MB/s eta 0:00:00\n",
            "Requirement already satisfied: typing-extensions>=3.7.4 in /usr/local/lib/python3.10/dist-packages (from pinecone-client) (4.5.0)\n",
            "Collecting dnspython>=2.0.0 (from pinecone-client)\n",
            "  Downloading dnspython-2.4.2-py3-none-any.whl (300 kB)\n",
            "     ━━━━━━━━━━━━━━━━━━━━━━━━━━━━━━━━━━━━━━━━ 300.4/300.4 kB 10.2 MB/s eta 0:00:00\n",
            "Requirement already satisfied: python-dateutil>=2.5.3 in /usr/local/lib/python3.10/dist-packages (from pinecone-client) (2.8.2)\n",
            "Requirement already satisfied: urllib3>=1.21.1 in /usr/local/lib/python3.10/dist-packages (from pinecone-client) (2.0.7)\n",
            "Requirement already satisfied: tqdm>=4.64.1 in /usr/local/lib/python3.10/dist-packages (from pinecone-client) (4.66.1)\n",
            "Requirement already satisfied: numpy>=1.22.0 in /usr/local/lib/python3.10/dist-packages (from pinecone-client) (1.23.5)\n",
            "Requirement already satisfied: six>=1.5 in /usr/local/lib/python3.10/dist-packages (from python-dateutil>=2.5.3->pinecone-client) (1.16.0)\n",
            "Requirement already satisfied: charset-normalizer<4,>=2 in /usr/local/lib/python3.10/dist-packages (from requests>=2.19.0->pinecone-client) (3.3.2)\n",
            "Requirement already satisfied: idna<4,>=2.5 in /usr/local/lib/python3.10/dist-packages (from requests>=2.19.0->pinecone-client) (3.6)\n",
            "Requirement already satisfied: certifi>=2017.4.17 in /usr/local/lib/python3.10/dist-packages (from requests>=2.19.0->pinecone-client) (2023.11.17)\n",
            "Installing collected packages: loguru, dnspython, pinecone-client\n",
            "Successfully installed dnspython-2.4.2 loguru-0.7.2 pinecone-client-2.2.4\n"
          ]
        },
        {
          "output_type": "stream",
          "name": "stderr",
          "text": [
            "ERROR: pip's dependency resolver does not currently take into account all the packages that are installed. This behaviour is the source of the following dependency conflicts.\n",
            "llmx 0.0.15a0 requires cohere, which is not installed.\n",
            "llmx 0.0.15a0 requires openai, which is not installed.\n"
          ]
        }
      ],
      "source": [
        "%%bash\n",
        "pip install pandas\n",
        "pip install -U openai-whisper\n",
        "pip install pytube\n",
        "pip install numpy\n",
        "pip install pinecone-client"
      ]
    },
    {
      "cell_type": "code",
      "execution_count": null,
      "id": "16fb4387",
      "metadata": {
        "colab": {
          "base_uri": "https://localhost:8080/"
        },
        "id": "16fb4387",
        "outputId": "28f6dfc4-a745-4df4-89d8-bbd610d52b31"
      },
      "outputs": [
        {
          "output_type": "stream",
          "name": "stderr",
          "text": [
            "/usr/local/lib/python3.10/dist-packages/pinecone/index.py:4: TqdmExperimentalWarning: Using `tqdm.autonotebook.tqdm` in notebook mode. Use `tqdm.tqdm` instead to force console mode (e.g. in jupyter console)\n",
            "  from tqdm.autonotebook import tqdm\n"
          ]
        }
      ],
      "source": [
        "# Import the modules\n",
        "import os\n",
        "import torch\n",
        "import whisper\n",
        "import pinecone\n",
        "import numpy as np\n",
        "import pandas as pd\n",
        "from pytube import YouTube"
      ]
    },
    {
      "cell_type": "code",
      "execution_count": null,
      "id": "344f8d35",
      "metadata": {
        "id": "344f8d35"
      },
      "outputs": [],
      "source": [
        "def video_to_audio(video_url, destination):\n",
        "\n",
        "    # Get the video\n",
        "    video = YouTube(video_url)\n",
        "\n",
        "    # Convert video to Audio\n",
        "    audio = video.streams.filter(only_audio=True).first()\n",
        "\n",
        "    # Save to destination\n",
        "    output = audio.download(output_path = destination)\n",
        "\n",
        "    name, ext = os.path.splitext(output)\n",
        "    new_file = name + '.mp3'\n",
        "\n",
        "    # Replace spaces with \"_\"\n",
        "    new_file = new_file.replace(\" \", \"_\")\n",
        "\n",
        "    # Change the name of the file\n",
        "    os.rename(output, new_file)\n",
        "\n",
        "    return new_file"
      ]
    },
    {
      "cell_type": "code",
      "execution_count": null,
      "id": "878139fb",
      "metadata": {
        "id": "878139fb"
      },
      "outputs": [],
      "source": [
        "%%bash\n",
        "mkdir \"audio_data\""
      ]
    },
    {
      "cell_type": "code",
      "execution_count": null,
      "id": "5ebb07b5",
      "metadata": {
        "id": "5ebb07b5"
      },
      "outputs": [],
      "source": [
        "# Create URL column\n",
        "audio_path = \"audio_data\"\n",
        "\n",
        "list_videos = [...]# paste comma seperated yt links here\n",
        "# Create dataframe\n",
        "transcription_df = pd.DataFrame(list_videos, columns=['URLs'])"
      ]
    },
    {
      "cell_type": "code",
      "execution_count": null,
      "id": "9d960a1c",
      "metadata": {
        "colab": {
          "base_uri": "https://localhost:8080/",
          "height": 206
        },
        "id": "9d960a1c",
        "outputId": "2441d619-79b1-4908-b548-574fb68eded1"
      },
      "outputs": [
        {
          "output_type": "execute_result",
          "data": {
            "text/plain": [
              "                                          URLs\n",
              "0  https://www.youtube.com/watch?v=IdTMDpizis8\n",
              "1  https://www.youtube.com/watch?v=fLeJJPxua3E\n",
              "2  https://www.youtube.com/watch?v=z3FA2kALScU\n",
              "3  https://www.youtube.com/watch?v=yBrRpb8aLwk\n",
              "4  https://www.youtube.com/watch?v=ERClHCOF14c"
            ],
            "text/html": [
              "\n",
              "  <div id=\"df-b910f81d-c435-429a-8f18-453c1b291ed0\" class=\"colab-df-container\">\n",
              "    <div>\n",
              "<style scoped>\n",
              "    .dataframe tbody tr th:only-of-type {\n",
              "        vertical-align: middle;\n",
              "    }\n",
              "\n",
              "    .dataframe tbody tr th {\n",
              "        vertical-align: top;\n",
              "    }\n",
              "\n",
              "    .dataframe thead th {\n",
              "        text-align: right;\n",
              "    }\n",
              "</style>\n",
              "<table border=\"1\" class=\"dataframe\">\n",
              "  <thead>\n",
              "    <tr style=\"text-align: right;\">\n",
              "      <th></th>\n",
              "      <th>URLs</th>\n",
              "    </tr>\n",
              "  </thead>\n",
              "  <tbody>\n",
              "    <tr>\n",
              "      <th>0</th>\n",
              "      <td>https://www.youtube.com/watch?v=IdTMDpizis8</td>\n",
              "    </tr>\n",
              "    <tr>\n",
              "      <th>1</th>\n",
              "      <td>https://www.youtube.com/watch?v=fLeJJPxua3E</td>\n",
              "    </tr>\n",
              "    <tr>\n",
              "      <th>2</th>\n",
              "      <td>https://www.youtube.com/watch?v=z3FA2kALScU</td>\n",
              "    </tr>\n",
              "    <tr>\n",
              "      <th>3</th>\n",
              "      <td>https://www.youtube.com/watch?v=yBrRpb8aLwk</td>\n",
              "    </tr>\n",
              "    <tr>\n",
              "      <th>4</th>\n",
              "      <td>https://www.youtube.com/watch?v=ERClHCOF14c</td>\n",
              "    </tr>\n",
              "  </tbody>\n",
              "</table>\n",
              "</div>\n",
              "    <div class=\"colab-df-buttons\">\n",
              "\n",
              "  <div class=\"colab-df-container\">\n",
              "    <button class=\"colab-df-convert\" onclick=\"convertToInteractive('df-b910f81d-c435-429a-8f18-453c1b291ed0')\"\n",
              "            title=\"Convert this dataframe to an interactive table.\"\n",
              "            style=\"display:none;\">\n",
              "\n",
              "  <svg xmlns=\"http://www.w3.org/2000/svg\" height=\"24px\" viewBox=\"0 -960 960 960\">\n",
              "    <path d=\"M120-120v-720h720v720H120Zm60-500h600v-160H180v160Zm220 220h160v-160H400v160Zm0 220h160v-160H400v160ZM180-400h160v-160H180v160Zm440 0h160v-160H620v160ZM180-180h160v-160H180v160Zm440 0h160v-160H620v160Z\"/>\n",
              "  </svg>\n",
              "    </button>\n",
              "\n",
              "  <style>\n",
              "    .colab-df-container {\n",
              "      display:flex;\n",
              "      gap: 12px;\n",
              "    }\n",
              "\n",
              "    .colab-df-convert {\n",
              "      background-color: #E8F0FE;\n",
              "      border: none;\n",
              "      border-radius: 50%;\n",
              "      cursor: pointer;\n",
              "      display: none;\n",
              "      fill: #1967D2;\n",
              "      height: 32px;\n",
              "      padding: 0 0 0 0;\n",
              "      width: 32px;\n",
              "    }\n",
              "\n",
              "    .colab-df-convert:hover {\n",
              "      background-color: #E2EBFA;\n",
              "      box-shadow: 0px 1px 2px rgba(60, 64, 67, 0.3), 0px 1px 3px 1px rgba(60, 64, 67, 0.15);\n",
              "      fill: #174EA6;\n",
              "    }\n",
              "\n",
              "    .colab-df-buttons div {\n",
              "      margin-bottom: 4px;\n",
              "    }\n",
              "\n",
              "    [theme=dark] .colab-df-convert {\n",
              "      background-color: #3B4455;\n",
              "      fill: #D2E3FC;\n",
              "    }\n",
              "\n",
              "    [theme=dark] .colab-df-convert:hover {\n",
              "      background-color: #434B5C;\n",
              "      box-shadow: 0px 1px 3px 1px rgba(0, 0, 0, 0.15);\n",
              "      filter: drop-shadow(0px 1px 2px rgba(0, 0, 0, 0.3));\n",
              "      fill: #FFFFFF;\n",
              "    }\n",
              "  </style>\n",
              "\n",
              "    <script>\n",
              "      const buttonEl =\n",
              "        document.querySelector('#df-b910f81d-c435-429a-8f18-453c1b291ed0 button.colab-df-convert');\n",
              "      buttonEl.style.display =\n",
              "        google.colab.kernel.accessAllowed ? 'block' : 'none';\n",
              "\n",
              "      async function convertToInteractive(key) {\n",
              "        const element = document.querySelector('#df-b910f81d-c435-429a-8f18-453c1b291ed0');\n",
              "        const dataTable =\n",
              "          await google.colab.kernel.invokeFunction('convertToInteractive',\n",
              "                                                    [key], {});\n",
              "        if (!dataTable) return;\n",
              "\n",
              "        const docLinkHtml = 'Like what you see? Visit the ' +\n",
              "          '<a target=\"_blank\" href=https://colab.research.google.com/notebooks/data_table.ipynb>data table notebook</a>'\n",
              "          + ' to learn more about interactive tables.';\n",
              "        element.innerHTML = '';\n",
              "        dataTable['output_type'] = 'display_data';\n",
              "        await google.colab.output.renderOutput(dataTable, element);\n",
              "        const docLink = document.createElement('div');\n",
              "        docLink.innerHTML = docLinkHtml;\n",
              "        element.appendChild(docLink);\n",
              "      }\n",
              "    </script>\n",
              "  </div>\n",
              "\n",
              "\n",
              "<div id=\"df-8d99f1b1-2d01-4ed3-9367-03b788d6c3d7\">\n",
              "  <button class=\"colab-df-quickchart\" onclick=\"quickchart('df-8d99f1b1-2d01-4ed3-9367-03b788d6c3d7')\"\n",
              "            title=\"Suggest charts\"\n",
              "            style=\"display:none;\">\n",
              "\n",
              "<svg xmlns=\"http://www.w3.org/2000/svg\" height=\"24px\"viewBox=\"0 0 24 24\"\n",
              "     width=\"24px\">\n",
              "    <g>\n",
              "        <path d=\"M19 3H5c-1.1 0-2 .9-2 2v14c0 1.1.9 2 2 2h14c1.1 0 2-.9 2-2V5c0-1.1-.9-2-2-2zM9 17H7v-7h2v7zm4 0h-2V7h2v10zm4 0h-2v-4h2v4z\"/>\n",
              "    </g>\n",
              "</svg>\n",
              "  </button>\n",
              "\n",
              "<style>\n",
              "  .colab-df-quickchart {\n",
              "      --bg-color: #E8F0FE;\n",
              "      --fill-color: #1967D2;\n",
              "      --hover-bg-color: #E2EBFA;\n",
              "      --hover-fill-color: #174EA6;\n",
              "      --disabled-fill-color: #AAA;\n",
              "      --disabled-bg-color: #DDD;\n",
              "  }\n",
              "\n",
              "  [theme=dark] .colab-df-quickchart {\n",
              "      --bg-color: #3B4455;\n",
              "      --fill-color: #D2E3FC;\n",
              "      --hover-bg-color: #434B5C;\n",
              "      --hover-fill-color: #FFFFFF;\n",
              "      --disabled-bg-color: #3B4455;\n",
              "      --disabled-fill-color: #666;\n",
              "  }\n",
              "\n",
              "  .colab-df-quickchart {\n",
              "    background-color: var(--bg-color);\n",
              "    border: none;\n",
              "    border-radius: 50%;\n",
              "    cursor: pointer;\n",
              "    display: none;\n",
              "    fill: var(--fill-color);\n",
              "    height: 32px;\n",
              "    padding: 0;\n",
              "    width: 32px;\n",
              "  }\n",
              "\n",
              "  .colab-df-quickchart:hover {\n",
              "    background-color: var(--hover-bg-color);\n",
              "    box-shadow: 0 1px 2px rgba(60, 64, 67, 0.3), 0 1px 3px 1px rgba(60, 64, 67, 0.15);\n",
              "    fill: var(--button-hover-fill-color);\n",
              "  }\n",
              "\n",
              "  .colab-df-quickchart-complete:disabled,\n",
              "  .colab-df-quickchart-complete:disabled:hover {\n",
              "    background-color: var(--disabled-bg-color);\n",
              "    fill: var(--disabled-fill-color);\n",
              "    box-shadow: none;\n",
              "  }\n",
              "\n",
              "  .colab-df-spinner {\n",
              "    border: 2px solid var(--fill-color);\n",
              "    border-color: transparent;\n",
              "    border-bottom-color: var(--fill-color);\n",
              "    animation:\n",
              "      spin 1s steps(1) infinite;\n",
              "  }\n",
              "\n",
              "  @keyframes spin {\n",
              "    0% {\n",
              "      border-color: transparent;\n",
              "      border-bottom-color: var(--fill-color);\n",
              "      border-left-color: var(--fill-color);\n",
              "    }\n",
              "    20% {\n",
              "      border-color: transparent;\n",
              "      border-left-color: var(--fill-color);\n",
              "      border-top-color: var(--fill-color);\n",
              "    }\n",
              "    30% {\n",
              "      border-color: transparent;\n",
              "      border-left-color: var(--fill-color);\n",
              "      border-top-color: var(--fill-color);\n",
              "      border-right-color: var(--fill-color);\n",
              "    }\n",
              "    40% {\n",
              "      border-color: transparent;\n",
              "      border-right-color: var(--fill-color);\n",
              "      border-top-color: var(--fill-color);\n",
              "    }\n",
              "    60% {\n",
              "      border-color: transparent;\n",
              "      border-right-color: var(--fill-color);\n",
              "    }\n",
              "    80% {\n",
              "      border-color: transparent;\n",
              "      border-right-color: var(--fill-color);\n",
              "      border-bottom-color: var(--fill-color);\n",
              "    }\n",
              "    90% {\n",
              "      border-color: transparent;\n",
              "      border-bottom-color: var(--fill-color);\n",
              "    }\n",
              "  }\n",
              "</style>\n",
              "\n",
              "  <script>\n",
              "    async function quickchart(key) {\n",
              "      const quickchartButtonEl =\n",
              "        document.querySelector('#' + key + ' button');\n",
              "      quickchartButtonEl.disabled = true;  // To prevent multiple clicks.\n",
              "      quickchartButtonEl.classList.add('colab-df-spinner');\n",
              "      try {\n",
              "        const charts = await google.colab.kernel.invokeFunction(\n",
              "            'suggestCharts', [key], {});\n",
              "      } catch (error) {\n",
              "        console.error('Error during call to suggestCharts:', error);\n",
              "      }\n",
              "      quickchartButtonEl.classList.remove('colab-df-spinner');\n",
              "      quickchartButtonEl.classList.add('colab-df-quickchart-complete');\n",
              "    }\n",
              "    (() => {\n",
              "      let quickchartButtonEl =\n",
              "        document.querySelector('#df-8d99f1b1-2d01-4ed3-9367-03b788d6c3d7 button');\n",
              "      quickchartButtonEl.style.display =\n",
              "        google.colab.kernel.accessAllowed ? 'block' : 'none';\n",
              "    })();\n",
              "  </script>\n",
              "</div>\n",
              "\n",
              "    </div>\n",
              "  </div>\n"
            ]
          },
          "metadata": {},
          "execution_count": 9
        }
      ],
      "source": [
        "transcription_df.head()"
      ]
    },
    {
      "cell_type": "code",
      "execution_count": null,
      "id": "09335127",
      "metadata": {
        "id": "09335127"
      },
      "outputs": [],
      "source": [
        "transcription_df[\"file_name\"] = transcription_df[\"URLs\"].apply(lambda url: video_to_audio(url, audio_path))\n",
        "transcription_df.head()"
      ]
    },
    {
      "cell_type": "markdown",
      "id": "25d6b37e",
      "metadata": {
        "id": "25d6b37e"
      },
      "source": [
        "## Transcription"
      ]
    },
    {
      "cell_type": "code",
      "execution_count": null,
      "id": "fad4eef4",
      "metadata": {
        "colab": {
          "base_uri": "https://localhost:8080/"
        },
        "id": "fad4eef4",
        "outputId": "039f272b-a145-4656-9cae-7bb4675e75ae"
      },
      "outputs": [
        {
          "output_type": "stream",
          "name": "stderr",
          "text": [
            "100%|██████████████████████████████████████| 2.88G/2.88G [00:26<00:00, 117MiB/s]\n"
          ]
        }
      ],
      "source": [
        "# Set the device\n",
        "device = \"cuda\" if torch.cuda.is_available() else \"cpu\"\n",
        "\n",
        "# Load the model\n",
        "whisper_model = whisper.load_model(\"large\", device=device)"
      ]
    },
    {
      "cell_type": "code",
      "execution_count": null,
      "id": "b8ce8178",
      "metadata": {
        "id": "b8ce8178"
      },
      "outputs": [],
      "source": [
        "def audio_to_text(audio_file):\n",
        "\n",
        "    return whisper_model.transcribe(audio_file)[\"text\"]"
      ]
    },
    {
      "cell_type": "code",
      "execution_count": null,
      "id": "b016dc08",
      "metadata": {
        "id": "b016dc08"
      },
      "outputs": [],
      "source": [
        "# Apply the function to all the audio files\n",
        "transcription_df[\"transcriptions\"] = transcription_df[\"file_name\"].apply(lambda f_name: audio_to_text(f_name))\n",
        "# Show the first five rows\n",
        "transcription_df.head()"
      ]
    },
    {
      "cell_type": "code",
      "execution_count": null,
      "id": "ryc6CfPxz_O4",
      "metadata": {
        "id": "ryc6CfPxz_O4"
      },
      "outputs": [],
      "source": [
        "import textwrap"
      ]
    },
    {
      "cell_type": "code",
      "execution_count": null,
      "id": "8171d2ff",
      "metadata": {
        "id": "8171d2ff"
      },
      "outputs": [],
      "source": [
        "wrapper = textwrap.TextWrapper(width=60)\n",
        "first_transcription = transcription_df.iloc[0][\"transcriptions\"]\n",
        "formatted_transcription = wrapper.fill(text=first_transcription)\n",
        "\n",
        "# Check first transcription\n",
        "print(formatted_transcription)"
      ]
    },
    {
      "cell_type": "code",
      "execution_count": null,
      "id": "5e152c8f",
      "metadata": {
        "id": "5e152c8f"
      },
      "outputs": [],
      "source": [
        "transcription_df = transcription_df.drop([\"transcription_length\"], axis=1)"
      ]
    },
    {
      "cell_type": "code",
      "execution_count": null,
      "id": "PRxdwgvG2mn6",
      "metadata": {
        "id": "PRxdwgvG2mn6"
      },
      "outputs": [],
      "source": [
        "transcription_df.head()"
      ]
    },
    {
      "cell_type": "markdown",
      "id": "eQfwmvG0-pZb",
      "metadata": {
        "id": "eQfwmvG0-pZb"
      },
      "source": [
        "## Generation of Transcripts' Embeddings"
      ]
    },
    {
      "cell_type": "code",
      "execution_count": null,
      "id": "Jyho4nPW_KT0",
      "metadata": {
        "id": "Jyho4nPW_KT0"
      },
      "outputs": [],
      "source": [
        "!pip install openai\n",
        "import openai"
      ]
    },
    {
      "cell_type": "code",
      "execution_count": null,
      "id": "2Qwclp5v-iiI",
      "metadata": {
        "id": "2Qwclp5v-iiI"
      },
      "outputs": [],
      "source": [
        "# Set up the OpenAI key\n",
        "openai.api_key = \"\"#your openAPI key here"
      ]
    },
    {
      "cell_type": "code",
      "execution_count": null,
      "id": "GBKs1Eiy_lJA",
      "metadata": {
        "id": "GBKs1Eiy_lJA"
      },
      "outputs": [],
      "source": [
        "def get_embeddings(text_to_embed):\n",
        "\n",
        "\tresponse = openai.Embedding.create(\n",
        "    \tmodel= \"text-embedding-ada-002\",\n",
        "    \tinput=[text_to_embed]\n",
        "\t)\n",
        "\n",
        "\t# Extract the AI output embedding as a list of floats\n",
        "\tembedding = response[\"data\"][0][\"embedding\"]\n",
        "\n",
        "\treturn embedding"
      ]
    },
    {
      "cell_type": "code",
      "execution_count": null,
      "id": "DzpA5EYF_oec",
      "metadata": {
        "id": "DzpA5EYF_oec"
      },
      "outputs": [],
      "source": [
        "transcription_df[\"embedding\"] = transcription_df[\"transcriptions\"].astype(str).apply(get_embeddings)"
      ]
    },
    {
      "cell_type": "code",
      "execution_count": null,
      "id": "sJfPT3LT_yCm",
      "metadata": {
        "id": "sJfPT3LT_yCm"
      },
      "outputs": [],
      "source": [
        "transcription_df.head()"
      ]
    },
    {
      "cell_type": "code",
      "execution_count": null,
      "id": "ZykZAv0jDvbT",
      "metadata": {
        "id": "ZykZAv0jDvbT"
      },
      "outputs": [],
      "source": [
        "vector_dim = transcription_df.iloc[0].embedding\n",
        "len(vector_dim)"
      ]
    },
    {
      "cell_type": "markdown",
      "id": "BrTLL4K-DVwx",
      "metadata": {
        "id": "BrTLL4K-DVwx"
      },
      "source": [
        "## Configure your environment"
      ]
    },
    {
      "cell_type": "code",
      "execution_count": null,
      "id": "rhFpGuotAkbC",
      "metadata": {
        "id": "rhFpGuotAkbC"
      },
      "outputs": [],
      "source": [
        "# find API key in console at app.pinecone.io\n",
        "api_key = \"\" #pinecone db key\n",
        "# find ENV (cloud region) next to API key in console\n",
        "env = \"gcp-starter\"\n",
        "\n",
        "# Initialize connection to pinecone\n",
        "pinecone.init(\n",
        "  api_key=api_key,\n",
        "  environment=env\n",
        ")\n",
        "\n",
        "# Index params\n",
        "my_index_name = \"audio-search\"\n",
        "vector_dim = len(transcription_df.iloc[0].embedding)\n",
        "\n",
        "if my_index_name not in pinecone.list_indexes():\n",
        "  # Create the index\n",
        "  pinecone.create_index(name = my_index_name,\n",
        "                      dimension=vector_dim,\n",
        "                      metric=\"cosine\", shards=1,\n",
        "                      pod_type='s1.x1')\n",
        "# Connect to the index\n",
        "my_index = pinecone.Index(index_name = my_index_name)"
      ]
    },
    {
      "cell_type": "code",
      "execution_count": null,
      "id": "h2_dlcRbDlfY",
      "metadata": {
        "id": "h2_dlcRbDlfY"
      },
      "outputs": [],
      "source": [
        "# Show information about the vector index\n",
        "my_index.describe_index_stats()"
      ]
    },
    {
      "cell_type": "markdown",
      "id": "lY78Z58LEoJb",
      "metadata": {
        "id": "lY78Z58LEoJb"
      },
      "source": [
        "## Populate the the Pinecone Vector Index"
      ]
    },
    {
      "cell_type": "code",
      "execution_count": null,
      "id": "t3BTJ7uWEWtv",
      "metadata": {
        "id": "t3BTJ7uWEWtv"
      },
      "outputs": [],
      "source": [
        "transcription_df[\"vector_id\"] = transcription_df.index\n",
        "transcription_df[\"vector_id\"] = transcription_df[\"vector_id\"].apply(str)\n",
        "\n",
        "# Get all the metadata\n",
        "final_metadata = []\n",
        "\n",
        "for index in range(len(transcription_df)):\n",
        "  final_metadata.append({\n",
        "      'ID':  index,\n",
        "      'url': transcription_df.iloc[index].URLs,\n",
        "      'transcription': transcription_df.iloc[index].transcriptions\n",
        "  })\n",
        "\n",
        "audio_IDs = transcription_df.vector_id.tolist()\n",
        "audio_embeddings = [arr for arr in transcription_df.embedding]\n",
        "\n",
        "# Create the single list of dictionary format to insert\n",
        "data_to_upsert = list(zip(audio_IDs, audio_embeddings, final_metadata))\n",
        "\n",
        "# Upload the final data\n",
        "my_index.upsert(vectors = data_to_upsert)\n",
        "\n",
        "# Show information about the vector index\n",
        "my_index.describe_index_stats()"
      ]
    },
    {
      "cell_type": "code",
      "execution_count": null,
      "id": "C-ezoAeMFEmP",
      "metadata": {
        "id": "C-ezoAeMFEmP"
      },
      "outputs": [],
      "source": [
        "N = 3\n",
        "my_query_embedding = transcription_df.embedding[0]\n",
        "\n",
        "# Run the Query Search\n",
        "my_index.query(my_query_embedding, top_k=N, include_metadata=True)"
      ]
    }
  ],
  "metadata": {
    "accelerator": "GPU",
    "colab": {
      "gpuType": "T4",
      "provenance": [],
      "include_colab_link": true
    },
    "kernelspec": {
      "display_name": "Python 3",
      "name": "python3"
    },
    "language_info": {
      "codemirror_mode": {
        "name": "ipython",
        "version": 3
      },
      "file_extension": ".py",
      "mimetype": "text/x-python",
      "name": "python",
      "nbconvert_exporter": "python",
      "pygments_lexer": "ipython3",
      "version": "3.9.15"
    },
    "toc": {
      "base_numbering": 1,
      "nav_menu": {},
      "number_sections": true,
      "sideBar": true,
      "skip_h1_title": false,
      "title_cell": "Table of Contents",
      "title_sidebar": "Contents",
      "toc_cell": false,
      "toc_position": {},
      "toc_section_display": true,
      "toc_window_display": false
    }
  },
  "nbformat": 4,
  "nbformat_minor": 5
}